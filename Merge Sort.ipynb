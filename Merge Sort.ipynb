{
 "cells": [
  {
   "cell_type": "code",
   "execution_count": 1,
   "id": "3867014f-d955-4e83-858a-759af6b0063f",
   "metadata": {},
   "outputs": [],
   "source": [
    "def sortArray(a, b):\n",
    "\n",
    "    sorted_array = []\n",
    "    \n",
    "    end_i = len(a) -1\n",
    "    end_j = len(b) -1\n",
    "    i=0\n",
    "    j = 0\n",
    "    \n",
    "    while True: \n",
    "            \n",
    "            if i > end_i:\n",
    "                sorted_array += b[j:]\n",
    "                return sorted_array\n",
    "                \n",
    "            elif j > end_j:\n",
    "                sorted_array += a[i:]\n",
    "                return sorted_array\n",
    "            \n",
    "            elif a[i] < b[j]:\n",
    "                sorted_array.append(a[i])\n",
    "                i += 1\n",
    "\n",
    "            elif a[i] == b[j]:\n",
    "                sorted_array.append(a[i])\n",
    "                sorted_array.append(b[i])\n",
    "                i += 1\n",
    "                j += 1\n",
    "                \n",
    "            else:\n",
    "                sorted_array.append(b[j])\n",
    "                j += 1\n",
    "            "
   ]
  },
  {
   "cell_type": "code",
   "execution_count": 2,
   "id": "afc2a493-ad12-4e78-8774-e7ce160dc874",
   "metadata": {},
   "outputs": [],
   "source": [
    "def mergeSort(array):\n",
    "    if len(array) <= 1:\n",
    "        return array\n",
    "    mid = len(array) //2\n",
    "    left = array[:mid]\n",
    "    right = array[mid:]\n",
    "    left_sort = mergeSort(left)\n",
    "    right_sort = mergeSort(right)\n",
    "    sorted = sortArray(left_sort, right_sort)\n",
    "    return sorted"
   ]
  },
  {
   "cell_type": "code",
   "execution_count": null,
   "id": "5f4cf095-de58-4c5b-b7f8-4bcd119a6449",
   "metadata": {},
   "outputs": [],
   "source": []
  }
 ],
 "metadata": {
  "kernelspec": {
   "display_name": "Python 3 (ipykernel)",
   "language": "python",
   "name": "python3"
  },
  "language_info": {
   "codemirror_mode": {
    "name": "ipython",
    "version": 3
   },
   "file_extension": ".py",
   "mimetype": "text/x-python",
   "name": "python",
   "nbconvert_exporter": "python",
   "pygments_lexer": "ipython3",
   "version": "3.11.4"
  }
 },
 "nbformat": 4,
 "nbformat_minor": 5
}
