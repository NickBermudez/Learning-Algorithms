{
 "cells": [
  {
   "cell_type": "code",
   "execution_count": 3,
   "id": "aa3f28e9-40ff-43cc-ac34-9f6be58ca13c",
   "metadata": {},
   "outputs": [],
   "source": [
    "def quickSort(array):\n",
    "    if len(array) <= 1:\n",
    "        return array\n",
    "    front = []\n",
    "    behind = []\n",
    "    pivot = array[0]\n",
    "    for i in range(1, len(array)):\n",
    "        element = array[i]\n",
    "        if element <= pivot:\n",
    "            behind.append(element)\n",
    "        else:\n",
    "            front.append(element)\n",
    "    return quickSort(behind) + [pivot] + quickSort(front)\n",
    "            \n",
    "    "
   ]
  },
  {
   "cell_type": "code",
   "execution_count": 5,
   "id": "371331a7-070c-4c74-890c-de66531f5c0b",
   "metadata": {},
   "outputs": [
    {
     "data": {
      "text/plain": [
       "[0, 1, 2, 3, 4, 7, 8, 8, 14, 69, 1000]"
      ]
     },
     "execution_count": 5,
     "metadata": {},
     "output_type": "execute_result"
    }
   ],
   "source": [
    "quickSort([4,2,0,7,8, 14, 1000, 8, 3, 1, 69])"
   ]
  },
  {
   "cell_type": "code",
   "execution_count": null,
   "id": "07e0d7b5-823e-4832-90ec-53c70589ef51",
   "metadata": {},
   "outputs": [],
   "source": []
  }
 ],
 "metadata": {
  "kernelspec": {
   "display_name": "Python 3 (ipykernel)",
   "language": "python",
   "name": "python3"
  },
  "language_info": {
   "codemirror_mode": {
    "name": "ipython",
    "version": 3
   },
   "file_extension": ".py",
   "mimetype": "text/x-python",
   "name": "python",
   "nbconvert_exporter": "python",
   "pygments_lexer": "ipython3",
   "version": "3.11.4"
  }
 },
 "nbformat": 4,
 "nbformat_minor": 5
}
