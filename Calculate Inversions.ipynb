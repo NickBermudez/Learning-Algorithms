{
 "cells": [
  {
   "cell_type": "code",
   "execution_count": 9,
   "id": "9d7e0540-1f0f-4e73-920d-bf052ff93179",
   "metadata": {},
   "outputs": [],
   "source": [
    "with open('array.txt') as f:\n",
    "    lines = f.readlines()\n",
    "input_array = []\n",
    "for number in lines:\n",
    "    number = int(number.replace('\\n',''))\n",
    "    input_array.append(number)"
   ]
  },
  {
   "cell_type": "code",
   "execution_count": 77,
   "id": "c8d4d343-7e89-46cb-9aa5-5ad1e9d08e71",
   "metadata": {},
   "outputs": [],
   "source": [
    "def mergeSortInversions(a, b):\n",
    "    inversions = 0\n",
    "    a = sorted(a)\n",
    "    b = sorted(b)\n",
    "\n",
    "    \n",
    "    mid = len(a)\n",
    "    sorted_array = []\n",
    "    \n",
    "    end_i = len(a) -1\n",
    "    end_j = len(b) -1\n",
    "    i=0\n",
    "    j = 0\n",
    "    \n",
    "    while True: \n",
    "            \n",
    "            if i > end_i:\n",
    "                sorted_array += b[j:]\n",
    "                return sorted_array, inversions\n",
    "                \n",
    "            elif j > end_j:\n",
    "                sorted_array += a[i:]\n",
    "                return sorted_array, inversions\n",
    "            \n",
    "            elif a[i] < b[j]:\n",
    "                sorted_array.append(a[i])\n",
    "                i += 1\n",
    "                \n",
    "                \n",
    "            else:\n",
    "                sorted_array.append(b[j])\n",
    "                inversions += mid - i \n",
    "                j += 1\n",
    "            "
   ]
  },
  {
   "cell_type": "code",
   "execution_count": 79,
   "id": "bf669375-edce-4adf-832b-89ce74563dd5",
   "metadata": {},
   "outputs": [],
   "source": [
    "def inversionCounter(array):\n",
    "    length = len(array)\n",
    "    if length <=1:\n",
    "        return array, 0\n",
    "        \n",
    "    half_point = length //2\n",
    "    left, left_inversions = inversionCounter(array[:half_point])\n",
    "    right, right_inversions = inversionCounter(array[half_point:])\n",
    "\n",
    "    merged, merged_inversions = mergeSortInversions(left, right)\n",
    "    \n",
    "    total_inversions= left_inversions + right_inversions + merged_inversions\n",
    "\n",
    "    return merged, total_inversions"
   ]
  },
  {
   "cell_type": "code",
   "execution_count": 81,
   "id": "44fa1599-3884-40a1-9940-1a1fd0411043",
   "metadata": {},
   "outputs": [
    {
     "data": {
      "text/plain": [
       "2407905288"
      ]
     },
     "execution_count": 81,
     "metadata": {},
     "output_type": "execute_result"
    }
   ],
   "source": [
    "inversionCounter(input_array)[1]"
   ]
  },
  {
   "cell_type": "code",
   "execution_count": null,
   "id": "c989a4cd-0580-4914-a350-dc11ecffc487",
   "metadata": {},
   "outputs": [],
   "source": []
  }
 ],
 "metadata": {
  "kernelspec": {
   "display_name": "Python 3 (ipykernel)",
   "language": "python",
   "name": "python3"
  },
  "language_info": {
   "codemirror_mode": {
    "name": "ipython",
    "version": 3
   },
   "file_extension": ".py",
   "mimetype": "text/x-python",
   "name": "python",
   "nbconvert_exporter": "python",
   "pygments_lexer": "ipython3",
   "version": "3.11.4"
  }
 },
 "nbformat": 4,
 "nbformat_minor": 5
}
